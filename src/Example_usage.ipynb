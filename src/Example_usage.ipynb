{
 "cells": [
  {
   "cell_type": "code",
   "execution_count": 3,
   "metadata": {},
   "outputs": [],
   "source": [
    "import os\n",
    "from tqdm import tqdm\n",
    "from main.ztfdatafiltering import *"
   ]
  },
  {
   "cell_type": "code",
   "execution_count": 4,
   "metadata": {},
   "outputs": [],
   "source": [
    "# Base paths for your directories and files\n",
    "base_path = \"../data/\" # Base path for all directories\n",
    "\n",
    "path_raw        = os.path.join(base_path, \"ztffp_raw_data/\")  # Where the raw data is located\n",
    "path_processed  = os.path.join(base_path, \"ztffp_processed_data/\")  # Processed files location\n",
    "path_final      = os.path.join(base_path, \"ztffp_final_data/\")  # Final processed and filtered DataFrames\n",
    "path_plots      = os.path.join(base_path, \"plots/\")  # Directory for saving plots\n",
    "coordinate_path = os.path.join(\"coordinates.txt\")  # File with RA/Dec coordinates\n",
    "\n",
    "results_table_path = os.path.join(os.getcwd(), \"variability_results.csv\")  # Save results table in current directory\n",
    "results = []  # List to store results"
   ]
  },
  {
   "cell_type": "code",
   "execution_count": 6,
   "metadata": {},
   "outputs": [
    {
     "name": "stderr",
     "output_type": "stream",
     "text": [
      "Processing:   0%|          | 0/10 [00:00<?, ?it/s]"
     ]
    },
    {
     "name": "stdout",
     "output_type": "stream",
     "text": [
      "Insufficient observations for ztf_i, skipping...\n"
     ]
    },
    {
     "name": "stderr",
     "output_type": "stream",
     "text": [
      "Processing:  10%|█         | 1/10 [00:00<00:05,  1.66it/s]"
     ]
    },
    {
     "name": "stdout",
     "output_type": "stream",
     "text": [
      "Insufficient observations for ztf_i, skipping...\n",
      "Insufficient observations for ztf_i, skipping...\n"
     ]
    },
    {
     "name": "stderr",
     "output_type": "stream",
     "text": [
      "Processing:  20%|██        | 2/10 [00:01<00:03,  2.03it/s]"
     ]
    },
    {
     "name": "stdout",
     "output_type": "stream",
     "text": [
      "Insufficient observations for ztf_i, skipping...\n",
      "Insufficient observations for ztf_i, skipping...\n"
     ]
    },
    {
     "name": "stderr",
     "output_type": "stream",
     "text": [
      "Processing:  30%|███       | 3/10 [00:01<00:03,  1.88it/s]"
     ]
    },
    {
     "name": "stdout",
     "output_type": "stream",
     "text": [
      "Insufficient observations for ztf_i, skipping...\n",
      "Insufficient observations for ztf_i, skipping...\n"
     ]
    },
    {
     "name": "stderr",
     "output_type": "stream",
     "text": [
      "Processing:  40%|████      | 4/10 [00:02<00:03,  1.96it/s]"
     ]
    },
    {
     "name": "stdout",
     "output_type": "stream",
     "text": [
      "Insufficient observations for ztf_i, skipping...\n",
      "Insufficient observations for ztf_i, skipping...\n"
     ]
    },
    {
     "name": "stderr",
     "output_type": "stream",
     "text": [
      "Processing:  50%|█████     | 5/10 [00:02<00:02,  2.10it/s]"
     ]
    },
    {
     "name": "stdout",
     "output_type": "stream",
     "text": [
      "Insufficient observations for ztf_i, skipping...\n",
      "F_var <= 0 for ztf_r, skipping...\n",
      "Insufficient observations for ztf_i, skipping...\n"
     ]
    },
    {
     "name": "stderr",
     "output_type": "stream",
     "text": [
      "d:\\Arquivos Pessoal\\Desktop\\env\\ZTF-Data-Filtering\\src\\main\\ztfdatafiltering.py:203: RuntimeWarning: divide by zero encountered in scalar divide\n",
      "  error_f_var = np.sqrt((1 / (2 * N)) * (mean_fluxe_squared / (mean_flux ** 2 * f_var ** 2)) + (mean_fluxe_squared / mean_flux ** 2))\n",
      "d:\\Arquivos Pessoal\\Desktop\\env\\ZTF-Data-Filtering\\src\\main\\ztfdatafiltering.py:302: RuntimeWarning: divide by zero encountered in scalar divide\n",
      "  error_f_var = np.sqrt((1 / (2 * N)) * (mean_fluxe_squared / (mean_flux ** 2 * f_var ** 2)) + (mean_fluxe_squared / mean_flux ** 2))\n",
      "d:\\Arquivos Pessoal\\Desktop\\env\\ZTF-Data-Filtering\\src\\main\\ztfdatafiltering.py:379: FutureWarning: The behavior of DataFrame concatenation with empty or all-NA entries is deprecated. In a future version, this will no longer exclude empty or all-NA columns when determining the result dtypes. To retain the old behavior, exclude the relevant entries before the concat operation.\n",
      "  df = pd.concat([df, new_row], ignore_index=True)\n",
      "Processing:  60%|██████    | 6/10 [00:02<00:01,  2.31it/s]"
     ]
    },
    {
     "name": "stdout",
     "output_type": "stream",
     "text": [
      "F_var <= 0 for ztf_r, skipping...\n",
      "Insufficient observations for ztf_i, skipping...\n",
      "Insufficient observations for ztf_i, skipping...\n"
     ]
    },
    {
     "name": "stderr",
     "output_type": "stream",
     "text": [
      "Processing:  70%|███████   | 7/10 [00:03<00:01,  2.32it/s]"
     ]
    },
    {
     "name": "stdout",
     "output_type": "stream",
     "text": [
      "Insufficient observations for ztf_i, skipping...\n",
      "Insufficient observations for ztf_i, skipping...\n"
     ]
    },
    {
     "name": "stderr",
     "output_type": "stream",
     "text": [
      "Processing:  80%|████████  | 8/10 [00:03<00:00,  2.15it/s]"
     ]
    },
    {
     "name": "stdout",
     "output_type": "stream",
     "text": [
      "Insufficient observations for ztf_i, skipping...\n",
      "Insufficient observations for ztf_i, skipping...\n"
     ]
    },
    {
     "name": "stderr",
     "output_type": "stream",
     "text": [
      "Processing:  90%|█████████ | 9/10 [00:04<00:00,  2.20it/s]"
     ]
    },
    {
     "name": "stdout",
     "output_type": "stream",
     "text": [
      "Insufficient observations for ztf_i, skipping...\n",
      "Insufficient observations for ztf_i, skipping...\n"
     ]
    },
    {
     "name": "stderr",
     "output_type": "stream",
     "text": [
      "Processing: 100%|██████████| 10/10 [00:04<00:00,  2.14it/s]"
     ]
    },
    {
     "name": "stdout",
     "output_type": "stream",
     "text": [
      "Insufficient observations for ztf_i, skipping...\n"
     ]
    },
    {
     "name": "stderr",
     "output_type": "stream",
     "text": [
      "\n"
     ]
    }
   ],
   "source": [
    "# Step 1: Read RA and Dec from the coordinates file\n",
    "ra_list, dec_list = read_coordinates_from_file(coordinate_path)\n",
    "\n",
    "# Step 2: Process each source\n",
    "for ra, dec in tqdm(zip(ra_list, dec_list), total=len(ra_list), desc=\"Processing\"):\n",
    "    source_name = create_source_name(ra, dec)\n",
    "\n",
    "    # Step 3: Create the ZTF table\n",
    "    #create_ztf_table(path=path_raw, output_directory=path_processed, ra=ra, dec=dec, source_name=source_name, ext_cor=True)\n",
    "\n",
    "    # Step 4: Plot light curves for each source (Optional)\n",
    "    # Uncomment to plot light curves\n",
    "    plot_lc(output_directory=path_processed, path_final=path_final, path_plots=path_plots, source_name=source_name)\n",
    "\n",
    "    # Step 5: Calculate F_var and append results\n",
    "    # Uncomment to calculate and save results\n",
    "    result = plot_hist(output_directory=path_processed, source_name=source_name, ra=ra, dec=dec, results_table_path=results_table_path)\n",
    "    results.append(result)"
   ]
  },
  {
   "cell_type": "code",
   "execution_count": 7,
   "metadata": {},
   "outputs": [
    {
     "name": "stderr",
     "output_type": "stream",
     "text": [
      "C:\\Users\\Pessoal\\AppData\\Local\\Packages\\PythonSoftwareFoundation.Python.3.11_qbz5n2kfra8p0\\LocalCache\\local-packages\\Python311\\site-packages\\numpy\\core\\fromnumeric.py:3504: RuntimeWarning: Mean of empty slice.\n",
      "  return _methods._mean(a, axis=axis, dtype=dtype,\n",
      "C:\\Users\\Pessoal\\AppData\\Local\\Packages\\PythonSoftwareFoundation.Python.3.11_qbz5n2kfra8p0\\LocalCache\\local-packages\\Python311\\site-packages\\numpy\\core\\_methods.py:129: RuntimeWarning: invalid value encountered in scalar divide\n",
      "  ret = ret.dtype.type(ret / rcount)\n"
     ]
    },
    {
     "name": "stdout",
     "output_type": "stream",
     "text": [
      "\n",
      "Statistics for F_var:\n",
      "g-band:\n",
      "  Mean: 0.2199\n",
      "  Median: 0.2033\n",
      "  Std Dev: 0.1559\n",
      "  Count: 20\n",
      "------------------------------\n",
      "r-band:\n",
      "  Mean: 0.1916\n",
      "  Median: 0.1667\n",
      "  Std Dev: 0.1273\n",
      "  Count: 18\n",
      "------------------------------\n",
      "i-band:\n",
      "  Mean: nan\n",
      "  Median: nan\n",
      "  Std Dev: nan\n",
      "  Count: 0\n",
      "------------------------------\n"
     ]
    },
    {
     "data": {
      "image/png": "[encoded data removed]",
      "text/plain": [
       "<Figure size 1000x600 with 1 Axes>"
      ]
     },
     "metadata": {},
     "output_type": "display_data"
    }
   ],
   "source": [
    "# Step 6: Plot histograms and display statistics\n",
    "output_directory = os.getcwd()\n",
    "plot_fvar_statistics(results_table_path, output_directory)\n"
   ]
  }
 ],
 "metadata": {
  "kernelspec": {
   "display_name": "Python 3",
   "language": "python",
   "name": "python3"
  },
  "language_info": {
   "codemirror_mode": {
    "name": "ipython",
    "version": 3
   },
   "file_extension": ".py",
   "mimetype": "text/x-python",
   "name": "python",
   "nbconvert_exporter": "python",
   "pygments_lexer": "ipython3",
   "version": "3.11.9"
  },
  "orig_nbformat": 4
 },
 "nbformat": 4,
 "nbformat_minor": 2
}
